{
  "nbformat": 4,
  "nbformat_minor": 0,
  "metadata": {
    "colab": {
      "provenance": []
    },
    "kernelspec": {
      "name": "python3",
      "display_name": "Python 3"
    },
    "language_info": {
      "name": "python"
    }
  },
  "cells": [
    {
      "cell_type": "markdown",
      "source": [
        "# Reading the Dataset"
      ],
      "metadata": {
        "id": "X8wU1Vdceian"
      }
    },
    {
      "cell_type": "code",
      "execution_count": 35,
      "metadata": {
        "id": "GuAN2OrJavUr"
      },
      "outputs": [],
      "source": [
        "import pandas as pd\n",
        "import numpy as np\n",
        "\n",
        "data = pd.read_csv('diabetes.csv')\n",
        "\n",
        "x = data.drop('Outcome', axis=1)\n",
        "y = data['Outcome']\n",
        "\n",
        "x = x.values\n",
        "y = y.values\n",
        "\n",
        "y = y.reshape(-1, 1)"
      ]
    },
    {
      "cell_type": "markdown",
      "source": [
        "# Splitting the data into training and test sets"
      ],
      "metadata": {
        "id": "T6D-WE8sa8PJ"
      }
    },
    {
      "cell_type": "code",
      "source": [
        "from sklearn.model_selection import train_test_split\n",
        "\n",
        "xTrain, xTest, yTrain, yTest = train_test_split(x, y, test_size=0.15, random_state=42)"
      ],
      "metadata": {
        "id": "4hWhOG3dd_Et"
      },
      "execution_count": 36,
      "outputs": []
    },
    {
      "cell_type": "markdown",
      "source": [
        "# Defining and Implementing the Neural Network Class"
      ],
      "metadata": {
        "id": "0m9Nkt_JrYpF"
      }
    },
    {
      "cell_type": "code",
      "source": [
        "class NeuralNetwork:\n",
        "    def __init__(self, inputSize, hiddenSize1, hiddenSize2, outputSize):\n",
        "        self.layer1Weights = np.random.randn(inputSize, hiddenSize1)\n",
        "        self.layer1Bias = np.zeros((1, hiddenSize1))\n",
        "        self.layer2Weights = np.random.randn(hiddenSize1, hiddenSize2)\n",
        "        self.layer2Bias = np.zeros((1, hiddenSize2))\n",
        "        self.layer3Weights = np.random.randn(hiddenSize2, outputSize)\n",
        "        self.layer3Bias = np.zeros((1, outputSize))\n",
        "\n",
        "    def sigmoid(self, x):\n",
        "        return 1 / (1 + np.exp(-x))\n",
        "\n",
        "    def deriveSigmoid(self, x):\n",
        "        return x * (1 - x)\n",
        "\n",
        "    def forward(self, X):\n",
        "        self.layer1Input = np.dot(X, self.layer1Weights) + self.layer1Bias\n",
        "        self.layer1 = self.sigmoid(self.layer1Input)\n",
        "        self.layer2Input = np.dot(self.layer1, self.layer2Weights) + self.layer2Bias\n",
        "        self.layer2 = self.sigmoid(self.layer2Input)\n",
        "        self.outputLayerInput = np.dot(self.layer2, self.layer3Weights) + self.layer3Bias\n",
        "        self.output = self.sigmoid(self.outputLayerInput)\n",
        "        return self.output\n",
        "\n",
        "    def backward(self, X, y, learning_rate):\n",
        "\n",
        "        error = y - self.output\n",
        "        dOutput = error * self.deriveSigmoid(self.output)\n",
        "\n",
        "\n",
        "        errorLayer2 = dOutput.dot(self.layer3Weights.T)\n",
        "        dLayer2 = errorLayer2 * self.deriveSigmoid(self.layer2)\n",
        "\n",
        "\n",
        "        errorLayer1 = dLayer2.dot(self.layer2Weights.T)\n",
        "        dLayer1 = errorLayer1 * self.deriveSigmoid(self.layer1)\n",
        "\n",
        "\n",
        "        self.layer3Weights += self.layer2.T.dot(dOutput) * learning_rate\n",
        "        self.layer3Bias += np.sum(dOutput, axis=0, keepdims=True) * learning_rate\n",
        "        self.layer2Weights += self.layer1.T.dot(dLayer2) * learning_rate\n",
        "        self.layer2Bias += np.sum(dLayer2, axis=0, keepdims=True) * learning_rate\n",
        "        self.layer1Weights += X.T.dot(dLayer1) * learning_rate\n",
        "        self.layer1Bias += np.sum(dLayer1, axis=0, keepdims=True) * learning_rate\n",
        "\n",
        "    def train(self, X, y, epochs, learningRate):\n",
        "        for epoch in range(epochs):\n",
        "            output = self.forward(X)\n",
        "            self.backward(X, y, learningRate)"
      ],
      "metadata": {
        "id": "nhRYwMCkeFWo"
      },
      "execution_count": 41,
      "outputs": []
    },
    {
      "cell_type": "markdown",
      "source": [
        "# Training and Evaluating with the dataset"
      ],
      "metadata": {
        "id": "O6zZrt5Mrl1e"
      }
    },
    {
      "cell_type": "code",
      "source": [
        "inputSize = xTrain.shape[1]\n",
        "hiddenSize1 = 8\n",
        "hiddenSize2 = 4\n",
        "outputSize = 1\n",
        "\n",
        "#initialzing the neural network\n",
        "nn = NeuralNetwork(inputSize, hiddenSize1, hiddenSize2, outputSize)\n",
        "\n",
        "#training the neural network\n",
        "nn.train(xTrain, yTrain, 30000, 0.01)\n",
        "\n",
        "#making predictions on the test data\n",
        "output = nn.forward(xTest)\n",
        "\n",
        "#converting to binary predictions\n",
        "predictions = (output > 0.5).astype(int)\n",
        "\n",
        "#Evaluating the overall accuracy on the test set\n",
        "accuracy = np.mean(predictions == yTest)\n",
        "print(f\"Accuracy: {accuracy}\")"
      ],
      "metadata": {
        "colab": {
          "base_uri": "https://localhost:8080/"
        },
        "id": "KxyQqtuYrllp",
        "outputId": "6f35a93f-c344-4b40-a064-98f79f803637"
      },
      "execution_count": 42,
      "outputs": [
        {
          "output_type": "stream",
          "name": "stderr",
          "text": [
            "<ipython-input-41-41460ba3fb3c>:11: RuntimeWarning: overflow encountered in exp\n",
            "  return 1 / (1 + np.exp(-x))\n"
          ]
        },
        {
          "output_type": "stream",
          "name": "stdout",
          "text": [
            "Accuracy: 0.7068965517241379\n"
          ]
        }
      ]
    }
  ]
}